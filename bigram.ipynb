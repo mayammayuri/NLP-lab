{
 "metadata": {
  "language_info": {
   "codemirror_mode": {
    "name": "ipython",
    "version": 3
   },
   "file_extension": ".py",
   "mimetype": "text/x-python",
   "name": "python",
   "nbconvert_exporter": "python",
   "pygments_lexer": "ipython3",
   "version": 3
  },
  "orig_nbformat": 2
 },
 "nbformat": 4,
 "nbformat_minor": 2,
 "cells": [
  {
   "cell_type": "code",
   "execution_count": null,
   "metadata": {},
   "outputs": [],
   "source": [
    "text=\"In statistics, a central tendency ( or measure of central tendency ) is a central or typical value for a probability distribution . [ 1 ] It may also be called a center or ! location of the distribution . Colloquially , measures of central tendency are often called averages . The term central tendency dates from the late 1920s . The most common measures of central tendency are the arithmetic mean , the median , and the mode. A middle tendency can be calculated for either a finite set of values or for a theoretical distribution , such as the normal distribution . Occasionally authors use central tendency to denote the tendency of quantitative data to cluster around some central value . The central tendency of a distribution is ? typically contrasted with its dispersion or variability ; dispersion and central tendency are the often characterized properties of distributions . Analysis may judge whether data has a strong or a weak central tendency based on its dispersion .\""
   ]
  },
  {
   "cell_type": "code",
   "execution_count": null,
   "metadata": {},
   "outputs": [],
   "source": [
    "from sklearn.feature_extraction.text import CountVectorizer\n",
    "c_vec = CountVectorizer()\n",
    "# matrix of ngrams\n",
    "ngrams = c_vec.fit_transform(text)\n",
    "# count frequency of ngrams\n",
    "count_values = ngrams.toarray().sum(axis=0)\n",
    "# list of ngrams\n",
    "vocab = c_vec.vocabulary_\n",
    "df_ngram = pd.DataFrame(sorted([(count_values[i],k) for k,i in vocab.items()], reverse=True)\n",
    "            ).rename(columns={0: 'frequency', 1:'bigram/trigram'})"
   ]
  },
  {
   "cell_type": "code",
   "execution_count": null,
   "metadata": {},
   "outputs": [],
   "source": []
  }
 ]
}