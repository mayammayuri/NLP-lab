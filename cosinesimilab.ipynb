{
 "cells": [
  {
   "cell_type": "code",
   "execution_count": 102,
   "metadata": {},
   "outputs": [],
   "source": [
    "import pandas as pd\n",
    "from collections import Counter\n",
    "from sklearn.feature_extraction.text import CountVectorizer\n",
    "from sklearn.metrics.pairwise import cosine_similarity\n",
    "from nltk.tokenize import sent_tokenize, word_tokenize\n",
    "from nltk.stem import PorterStemmer\n",
    "stemmer=PorterStemmer()\n"
   ]
  },
  {
   "cell_type": "code",
   "execution_count": 62,
   "metadata": {},
   "outputs": [],
   "source": [
    "def calcfreq(mylist):\n",
    "    freq={}\n",
    "    for i,items in enumerate(mylist):\n",
    "            freq[items]=mylist.count(items)\n",
    "\n",
    "    return freq"
   ]
  },
  {
   "cell_type": "code",
   "execution_count": 66,
   "metadata": {},
   "outputs": [
    {
     "name": "stdout",
     "output_type": "stream",
     "text": [
      "      an  are  between  cosine  data  determining  documents  helpful  how  \\\n",
      "doc1   0    1        0       1     1            1          0        1    1   \n",
      "doc2   1    0        1       1     0            0          0        0    0   \n",
      "doc3   0    1        0       1     0            0          1        0    1   \n",
      "\n",
      "      in  ...  similarity  size  space  the  their  to  two  used  vectors  \\\n",
      "doc1   1  ...           1     1      0    1      1   0    0     0        0   \n",
      "doc2   0  ...           2     0      1    0      0   0    1     0        1   \n",
      "doc3   0  ...           1     1      0    1      1   1    0     1        0   \n",
      "\n",
      "      zero  \n",
      "doc1     0  \n",
      "doc2     1  \n",
      "doc3     0  \n",
      "\n",
      "[3 rows x 30 columns]\n"
     ]
    }
   ],
   "source": [
    "doc1=\"Cosine similarity is a metric, helpful in determining, how similar the data objects are irrespective of their size. We can measure the similarity between two sentences in Python using Cosine Similarity. In cosine similarity, data objects in a dataset are treated as a vector.\"\n",
    "doc2=\"Cosine similarity is a measure of similarity between two non-zero vectors of an inner product space. It is defined to equal the cosine of the angle between them, which is also the same as the inner product of the same vectors normalized to both have length 1.\"\n",
    "doc3=\"Cosine similarity is a metric used to measure how similar the documents are irrespective of their size. Mathematically, it measures the cosine of the angle between two vectors projected in a multi-dimensional space. The cosine similarity is advantageous because even if the two similar documents are far apart by the Euclidean distance (due to the size of the document), chances are they may still be oriented closer together. The smaller the angle, higher the cosine similarity.\"\n",
    "doc=[doc1,doc2,doc3]\n",
    "worddict={}\n",
    "i=1\n",
    "#mycode \n",
    "for ele in doc:\n",
    "    words=ele.split(\" \")\n",
    "    data=calcfreq(words)\n",
    "        \n",
    "\n",
    "df=pd.DataFrame(data,index=['doc1', 'doc2', 'doc3'])\n",
    "#print(df)\n",
    "\n",
    "#usinglibraries\n",
    "count=CountVectorizer()\n",
    "matrix = count.fit_transform(doc)\n",
    "matri2=matrix.todense()\n",
    "df1=pd.DataFrame(matri2,columns=count.get_feature_names(),index=['doc1', 'doc2', 'doc3'])\n",
    "print(df1)\n"
   ]
  },
  {
   "cell_type": "code",
   "execution_count": 56,
   "metadata": {},
   "outputs": [
    {
     "name": "stdout",
     "output_type": "stream",
     "text": [
      "doc1 doc2 doc3\n",
      "[[1.         0.32539569 0.72760688]\n",
      " [0.32539569 1.         0.3913119 ]\n",
      " [0.72760688 0.3913119  1.        ]]\n"
     ]
    }
   ],
   "source": [
    "from sklearn.metrics.pairwise import cosine_similarity\n",
    "print('doc1', 'doc2', 'doc3')\n",
    "print(cosine_similarity(df1, df1))"
   ]
  },
  {
   "cell_type": "code",
   "execution_count": 71,
   "metadata": {},
   "outputs": [
    {
     "name": "stdout",
     "output_type": "stream",
     "text": [
      "      cosine  data  determining  documents  helpful  inner  irrespective  \\\n",
      "doc1       1     1            1          0        1      0             1   \n",
      "doc2       1     0            0          0        0      1             0   \n",
      "doc3       1     0            0          1        0      0             1   \n",
      "\n",
      "      measure  metric  non  objects  product  similar  similarity  size  \\\n",
      "doc1        0       1    0        1        0        1           1     1   \n",
      "doc2        1       0    1        0        1        0           2     0   \n",
      "doc3        1       1    0        0        0        1           1     1   \n",
      "\n",
      "      space  used  vectors  zero  \n",
      "doc1      0     0        0     0  \n",
      "doc2      1     0        1     1  \n",
      "doc3      0     1        0     0  \n"
     ]
    }
   ],
   "source": [
    "count1=CountVectorizer(stop_words=\"english\")\n",
    "matrix1 = count1.fit_transform(doc)\n",
    "matri23=matrix1.todense()\n",
    "df11=pd.DataFrame(matri23,columns=count1.get_feature_names(),index=['doc1', 'doc2', 'doc3'])\n",
    "print(df11)"
   ]
  },
  {
   "cell_type": "code",
   "execution_count": 72,
   "metadata": {},
   "outputs": [
    {
     "name": "stdout",
     "output_type": "stream",
     "text": [
      "doc1 doc2 doc3\n",
      "[[1.         0.27386128 0.63245553]\n",
      " [0.27386128 1.         0.38490018]\n",
      " [0.63245553 0.38490018 1.        ]]\n"
     ]
    }
   ],
   "source": [
    "from sklearn.metrics.pairwise import cosine_similarity\n",
    "print('doc1', 'doc2', 'doc3')\n",
    "print(cosine_similarity(df11, df11))"
   ]
  },
  {
   "cell_type": "code",
   "execution_count": 104,
   "metadata": {},
   "outputs": [],
   "source": [
    "def stemSentence(sentence):\n",
    "    token_words=word_tokenize(sentence)\n",
    "    token_words\n",
    "    stem_sentence=[]\n",
    "    for word in token_words:\n",
    "        stem_sentence.append(stemmer.stem(word))\n",
    "        stem_sentence.append(\" \")\n",
    "    return \"\".join(stem_sentence)\n",
    "\n",
    "por1=stemSentence(doc1)\n",
    "por2=stemSentence(doc2)\n",
    "por3=stemSentence(doc3)\n",
    "\n",
    "porter=[por1,por2,por3]\n",
    "\n",
    "\n",
    "    "
   ]
  },
  {
   "cell_type": "code",
   "execution_count": 106,
   "metadata": {},
   "outputs": [
    {
     "name": "stdout",
     "output_type": "stream",
     "text": [
      "      an  are  between  cosin  data  determin  document  help  how  in  ...  \\\n",
      "por1   0    1        0      1     1         1         0     1    1   1  ...   \n",
      "por2   1    0        1      1     0         0         0     0    0   0  ...   \n",
      "por3   0    1        0      1     0         0         1     0    1   0  ...   \n",
      "\n",
      "      similar  size  space  the  their  to  two  use  vector  zero  \n",
      "por1        2     1      0    1      1   0    0    0       0     0  \n",
      "por2        2     0      1    0      0   0    1    0       1     1  \n",
      "por3        2     1      0    1      1   1    0    1       0     0  \n",
      "\n",
      "[3 rows x 29 columns]\n"
     ]
    }
   ],
   "source": [
    "count=CountVectorizer()\n",
    "por_matrix = count.fit_transform(porter)\n",
    "por_matri2=por_matrix.todense()\n",
    "por_df=pd.DataFrame(por_matri2,columns=count.get_feature_names(),index=['por1', 'por2', 'por3'])\n",
    "print(por_df)"
   ]
  },
  {
   "cell_type": "code",
   "execution_count": 107,
   "metadata": {},
   "outputs": [
    {
     "name": "stdout",
     "output_type": "stream",
     "text": [
      "  por1     por2     por3  \n",
      "[[1.         0.41039134 0.7570333 ]\n",
      " [0.41039134 1.         0.47434165]\n",
      " [0.7570333  0.47434165 1.        ]]\n"
     ]
    }
   ],
   "source": [
    "print('  por1  ', '  por2  ', '  por3  ')\n",
    "print(cosine_similarity(por_df, por_df))"
   ]
  },
  {
   "cell_type": "code",
   "execution_count": null,
   "metadata": {},
   "outputs": [],
   "source": [
    "\n"
   ]
  },
  {
   "cell_type": "code",
   "execution_count": null,
   "metadata": {},
   "outputs": [],
   "source": []
  }
 ],
 "metadata": {
  "kernelspec": {
   "display_name": "Python 3",
   "language": "python",
   "name": "python3"
  },
  "language_info": {
   "codemirror_mode": {
    "name": "ipython",
    "version": 3
   },
   "file_extension": ".py",
   "mimetype": "text/x-python",
   "name": "python",
   "nbconvert_exporter": "python",
   "pygments_lexer": "ipython3",
   "version": "3.7.6"
  }
 },
 "nbformat": 4,
 "nbformat_minor": 4
}
